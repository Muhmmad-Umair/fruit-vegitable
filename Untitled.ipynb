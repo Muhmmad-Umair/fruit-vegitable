{
 "cells": [
  {
   "cell_type": "code",
   "execution_count": 1,
   "id": "70773592-15a2-43bf-b0b5-d7fa03af9134",
   "metadata": {},
   "outputs": [],
   "source": [
    "import numpy as np\n",
    "import pandas as pd\n",
    "import matplotlib as plt\n",
    "import tensorflow as tf\n",
    "from tensorflow import keras\n",
    "from tensorflow.keras import layers"
   ]
  },
  {
   "cell_type": "code",
   "execution_count": 2,
   "id": "392bd464-860b-431d-a978-68fa266fd4c6",
   "metadata": {},
   "outputs": [],
   "source": [
    "train_path='train'\n",
    "test_path='test'\n",
    "data_validation='validation'"
   ]
  },
  {
   "cell_type": "code",
   "execution_count": 3,
   "id": "17ce8095-1bbf-440c-a8ac-f4fb9c0caa1a",
   "metadata": {},
   "outputs": [],
   "source": [
    "img_height=180\n",
    "img_width=180\n"
   ]
  },
  {
   "cell_type": "code",
   "execution_count": 4,
   "id": "2dc35a6a-1ff8-43d1-b34e-ed90e8429ca6",
   "metadata": {},
   "outputs": [
    {
     "name": "stdout",
     "output_type": "stream",
     "text": [
      "Found 3115 files belonging to 36 classes.\n"
     ]
    }
   ],
   "source": [
    "train_data=tf.keras.utils.image_dataset_from_directory(\n",
    "    train_path,\n",
    "    shuffle=True,\n",
    "    image_size=(img_height,img_width),\n",
    "    batch_size=32,\n",
    "    validation_split=False\n",
    ")"
   ]
  },
  {
   "cell_type": "code",
   "execution_count": 5,
   "id": "540ecb88-8e63-4218-8380-b71877c78845",
   "metadata": {},
   "outputs": [],
   "source": [
    "data_category=train_data.class_names"
   ]
  },
  {
   "cell_type": "code",
   "execution_count": 6,
   "id": "361b08fc-c60d-440a-aca1-8687ce8051a8",
   "metadata": {},
   "outputs": [
    {
     "name": "stdout",
     "output_type": "stream",
     "text": [
      "Found 351 files belonging to 36 classes.\n"
     ]
    }
   ],
   "source": [
    "data_vali=tf.keras.utils.image_dataset_from_directory(\n",
    "    data_validation,\n",
    "    image_size=(img_height,img_width),\n",
    "    batch_size=32,\n",
    "    validation_split=False,\n",
    "    shuffle=False\n",
    ")"
   ]
  },
  {
   "cell_type": "code",
   "execution_count": 7,
   "id": "53146b20-9e1a-405b-b32b-1815fefd6dc4",
   "metadata": {},
   "outputs": [
    {
     "name": "stdout",
     "output_type": "stream",
     "text": [
      "Found 359 files belonging to 36 classes.\n"
     ]
    }
   ],
   "source": [
    "data_test=tf.keras.utils.image_dataset_from_directory(\n",
    "    test_path,\n",
    "    shuffle=False,\n",
    "    image_size=(img_height,img_width),\n",
    "    batch_size=32,\n",
    "    validation_split=False)"
   ]
  },
  {
   "cell_type": "markdown",
   "id": "bf7bd7cb-a398-418c-88f2-e15ddca519ae",
   "metadata": {},
   "source": [
    "### import matplotlib.pyplot as plt\n",
    "\n",
    "plt.figure(figsize=(10, 10))\n",
    "for image, labels in train_data.take(1):\n",
    "    for i in range(9):\n",
    "        plt.subplot(3, 3, i + 1)\n",
    "        plt.imshow(image[i].numpy().astype('uint8'))\n",
    "        plt.title(data_category[labels[i]])\n",
    "        plt.axis('off')\n",
    "plt.show()\n"
   ]
  },
  {
   "cell_type": "code",
   "execution_count": 8,
   "id": "960d82a0-ae7b-448b-9e67-a861b74a059e",
   "metadata": {},
   "outputs": [],
   "source": [
    "from tensorflow.keras.models import Sequential"
   ]
  },
  {
   "cell_type": "code",
   "execution_count": 10,
   "id": "5173f210-ceb5-4bcb-8d0d-748b9b614008",
   "metadata": {},
   "outputs": [],
   "source": [
    "model=Sequential([\n",
    "    layers.Rescaling(1./255),\n",
    "    layers.Conv2D(16,3,padding='same',activation='relu'),\n",
    "    layers.MaxPool2D(),\n",
    "    layers.Conv2D(32,3,padding='same',activation='relu'),\n",
    "    layers.MaxPool2D(),\n",
    "    layers.Conv2D(64,3,padding='same',activation='relu'),\n",
    "    layers.MaxPool2D(),\n",
    "    layers.Flatten(),\n",
    "    layers.Dropout(0.2),\n",
    "    layers.Dense(128),\n",
    "    layers.Dense(units=len(data_category))\n",
    "])\n",
    "    "
   ]
  },
  {
   "cell_type": "code",
   "execution_count": 11,
   "id": "7dbe3794-4fb6-4093-b155-fe00dbae2f99",
   "metadata": {},
   "outputs": [],
   "source": [
    "model.compile(\n",
    "    optimizer='adam',\n",
    "    loss=tf.keras.losses.SparseCategoricalCrossentropy(from_logits=True),\n",
    "    metrics=['accuracy']\n",
    ")\n"
   ]
  },
  {
   "cell_type": "code",
   "execution_count": 12,
   "id": "34005493-fb7c-4cc8-9f41-4dabb157f0f7",
   "metadata": {},
   "outputs": [
    {
     "name": "stdout",
     "output_type": "stream",
     "text": [
      "Epoch 1/10\n",
      "\u001b[1m98/98\u001b[0m \u001b[32m━━━━━━━━━━━━━━━━━━━━\u001b[0m\u001b[37m\u001b[0m \u001b[1m78s\u001b[0m 751ms/step - accuracy: 0.0629 - loss: 3.8637 - val_accuracy: 0.2707 - val_loss: 2.4414\n",
      "Epoch 2/10\n",
      "\u001b[1m98/98\u001b[0m \u001b[32m━━━━━━━━━━━━━━━━━━━━\u001b[0m\u001b[37m\u001b[0m \u001b[1m82s\u001b[0m 749ms/step - accuracy: 0.2551 - loss: 2.5813 - val_accuracy: 0.4929 - val_loss: 1.7692\n",
      "Epoch 3/10\n",
      "\u001b[1m98/98\u001b[0m \u001b[32m━━━━━━━━━━━━━━━━━━━━\u001b[0m\u001b[37m\u001b[0m \u001b[1m83s\u001b[0m 755ms/step - accuracy: 0.4043 - loss: 2.0925 - val_accuracy: 0.7293 - val_loss: 1.1453\n",
      "Epoch 4/10\n",
      "\u001b[1m98/98\u001b[0m \u001b[32m━━━━━━━━━━━━━━━━━━━━\u001b[0m\u001b[37m\u001b[0m \u001b[1m75s\u001b[0m 755ms/step - accuracy: 0.5455 - loss: 1.6138 - val_accuracy: 0.8120 - val_loss: 0.7783\n",
      "Epoch 5/10\n",
      "\u001b[1m98/98\u001b[0m \u001b[32m━━━━━━━━━━━━━━━━━━━━\u001b[0m\u001b[37m\u001b[0m \u001b[1m75s\u001b[0m 756ms/step - accuracy: 0.6776 - loss: 1.1316 - val_accuracy: 0.8860 - val_loss: 0.5398\n",
      "Epoch 6/10\n",
      "\u001b[1m98/98\u001b[0m \u001b[32m━━━━━━━━━━━━━━━━━━━━\u001b[0m\u001b[37m\u001b[0m \u001b[1m74s\u001b[0m 753ms/step - accuracy: 0.7942 - loss: 0.7243 - val_accuracy: 0.8917 - val_loss: 0.6130\n",
      "Epoch 7/10\n",
      "\u001b[1m98/98\u001b[0m \u001b[32m━━━━━━━━━━━━━━━━━━━━\u001b[0m\u001b[37m\u001b[0m \u001b[1m73s\u001b[0m 744ms/step - accuracy: 0.8439 - loss: 0.5515 - val_accuracy: 0.9288 - val_loss: 0.3839\n",
      "Epoch 8/10\n",
      "\u001b[1m98/98\u001b[0m \u001b[32m━━━━━━━━━━━━━━━━━━━━\u001b[0m\u001b[37m\u001b[0m \u001b[1m74s\u001b[0m 752ms/step - accuracy: 0.9126 - loss: 0.3285 - val_accuracy: 0.9373 - val_loss: 0.3826\n",
      "Epoch 9/10\n",
      "\u001b[1m98/98\u001b[0m \u001b[32m━━━━━━━━━━━━━━━━━━━━\u001b[0m\u001b[37m\u001b[0m \u001b[1m73s\u001b[0m 738ms/step - accuracy: 0.9313 - loss: 0.2707 - val_accuracy: 0.9459 - val_loss: 0.5123\n",
      "Epoch 10/10\n",
      "\u001b[1m98/98\u001b[0m \u001b[32m━━━━━━━━━━━━━━━━━━━━\u001b[0m\u001b[37m\u001b[0m \u001b[1m73s\u001b[0m 738ms/step - accuracy: 0.9449 - loss: 0.2679 - val_accuracy: 0.9402 - val_loss: 0.4566\n"
     ]
    }
   ],
   "source": [
    "history=model.fit(train_data,validation_data=data_vali,epochs=10)"
   ]
  },
  {
   "cell_type": "code",
   "execution_count": 45,
   "id": "b974302d-b4c1-4cc4-8c73-661e6a818ea7",
   "metadata": {},
   "outputs": [],
   "source": [
    "image='pear.jpeg'\n",
    "image=tf.keras.utils.load_img(image,target_size=(img_height,img_width))\n",
    "img_arr=tf.keras.utils.array_to_img(image)\n",
    "img_bat=tf.expand_dims(img_arr,0)"
   ]
  },
  {
   "cell_type": "code",
   "execution_count": 46,
   "id": "f4c51f65-eb12-4b73-8ff1-9f2238d06991",
   "metadata": {},
   "outputs": [
    {
     "name": "stdout",
     "output_type": "stream",
     "text": [
      "\u001b[1m1/1\u001b[0m \u001b[32m━━━━━━━━━━━━━━━━━━━━\u001b[0m\u001b[37m\u001b[0m \u001b[1m0s\u001b[0m 71ms/step\n"
     ]
    }
   ],
   "source": [
    "pre=model.predict(img_bat)"
   ]
  },
  {
   "cell_type": "code",
   "execution_count": 47,
   "id": "cad0b0d8-0327-464f-b1d6-fcfa89040e6d",
   "metadata": {},
   "outputs": [],
   "source": [
    "score=tf.nn.softmax(pre)"
   ]
  },
  {
   "cell_type": "code",
   "execution_count": 48,
   "id": "86fa545c-379f-4189-8844-60f4e2448720",
   "metadata": {},
   "outputs": [
    {
     "name": "stdout",
     "output_type": "stream",
     "text": [
      "Veg/Fruit in image is pear with accuracy of 74.21\n"
     ]
    }
   ],
   "source": [
    "print('Veg/Fruit in image is {} with accuracy of {:0.2f}'.format(data_category[np.argmax(score)],np.max(score)*100))"
   ]
  },
  {
   "cell_type": "code",
   "execution_count": null,
   "id": "9d9d8fe2-1c3c-48d3-84f7-f10de1ea83ae",
   "metadata": {},
   "outputs": [],
   "source": []
  },
  {
   "cell_type": "code",
   "execution_count": null,
   "id": "a3740707-a047-4c53-be92-988b79a1aedf",
   "metadata": {},
   "outputs": [],
   "source": []
  }
 ],
 "metadata": {
  "kernelspec": {
   "display_name": "Python 3 (ipykernel)",
   "language": "python",
   "name": "python3"
  },
  "language_info": {
   "codemirror_mode": {
    "name": "ipython",
    "version": 3
   },
   "file_extension": ".py",
   "mimetype": "text/x-python",
   "name": "python",
   "nbconvert_exporter": "python",
   "pygments_lexer": "ipython3",
   "version": "3.12.3"
  }
 },
 "nbformat": 4,
 "nbformat_minor": 5
}
